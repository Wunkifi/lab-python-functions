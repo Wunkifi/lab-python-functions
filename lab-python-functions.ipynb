{
 "cells": [
  {
   "cell_type": "markdown",
   "id": "25d7736c-ba17-4aff-b6bb-66eba20fbf4e",
   "metadata": {},
   "source": [
    "# Lab | Functions"
   ]
  },
  {
   "cell_type": "markdown",
   "id": "0c581062-8967-4d93-b06e-62833222f930",
   "metadata": {
    "tags": []
   },
   "source": [
    "## Exercise: Managing Customer Orders with Functions\n",
    "\n",
    "In the previous exercise, you improved the code for managing customer orders by using loops and flow control. Now, let's take it a step further and refactor the code by introducing functions.\n",
    "\n",
    "Follow the steps below to complete the exercise:\n",
    "\n",
    "1. Define a function named `initialize_inventory` that takes `products` as a parameter. Inside the function, implement the code for initializing the inventory dictionary using a loop and user input.\n",
    "\n",
    "2. Define a function named `get_customer_orders` that takes no parameters. Inside the function, implement the code for prompting the user to enter the product names using a loop. The function should return the `customer_orders` set.\n",
    "\n",
    "3. Define a function named `update_inventory` that takes `customer_orders` and `inventory` as parameters. Inside the function, implement the code for updating the inventory dictionary based on the customer orders.\n",
    "\n",
    "4. Define a function named `calculate_order_statistics` that takes `customer_orders` and `products` as parameters. Inside the function, implement the code for calculating the order statistics (total products ordered, and percentage of unique products ordered). The function should return these values.\n",
    "\n",
    "5. Define a function named `print_order_statistics` that takes `order_statistics` as a parameter. Inside the function, implement the code for printing the order statistics.\n",
    "\n",
    "6. Define a function named `print_updated_inventory` that takes `inventory` as a parameter. Inside the function, implement the code for printing the updated inventory.\n",
    "\n",
    "7. Call the functions in the appropriate sequence to execute the program and manage customer orders.\n",
    "\n",
    "Hints for functions:\n",
    "\n",
    "- Consider the input parameters required for each function and their return values.\n",
    "- Utilize function parameters and return values to transfer data between functions.\n",
    "- Test your functions individually to ensure they work correctly.\n",
    "\n",
    "\n"
   ]
  },
  {
   "cell_type": "code",
   "execution_count": 26,
   "id": "c67c1ed2",
   "metadata": {},
   "outputs": [],
   "source": [
    "#Create a list with the products available\n",
    "products = [\"t-shirt\", \"mug\", \"hat\", \"book\", \"keychain\"]\n",
    "#Create an empty dictionary\n",
    "inventory = {}\n",
    "#Create a new empty set to store the customer orders\n",
    "customer_orders = set()\n",
    "def initialize_inventory(products):\n",
    "    #Iterate through the products and request a number from the user to update inventory dictionary\n",
    "    for product in products:\n",
    "        user_input = input(f\"Please enter the number of {product} available in your inventory\")\n",
    "        quantity = int(user_input)\n",
    "        inventory[product] = quantity\n"
   ]
  },
  {
   "cell_type": "code",
   "execution_count": 29,
   "id": "ec693e90",
   "metadata": {},
   "outputs": [],
   "source": [
    "initialize_inventory(products)"
   ]
  },
  {
   "cell_type": "code",
   "execution_count": 27,
   "id": "5881ef02",
   "metadata": {},
   "outputs": [],
   "source": [
    "#Request input from the user until they have inputed 3 items\n",
    "def get_customer_orders():\n",
    "    user_answer = True\n",
    "    while user_answer == True:\n",
    "            user_order = input(f\"Please input your order here:\")\n",
    "            user_order = user_order.lower()\n",
    "            if (user_order in products):\n",
    "                customer_orders.add(user_order)\n",
    "                user_prompt = input('Do you wish to add another product? yes/no')\n",
    "                user_prompt = user_prompt.lower()\n",
    "                if (user_prompt == 'yes'):\n",
    "                    user_answer = True\n",
    "                elif(user_prompt == 'no'):\n",
    "                    user_answer = False\n",
    "                    break\n",
    "                else:\n",
    "                    print(f'an error has been detected {user_prompt} not valid')\n",
    "                    continue\n",
    "            else:\n",
    "                continue\n",
    "    return customer_orders"
   ]
  },
  {
   "cell_type": "code",
   "execution_count": 30,
   "id": "08874ddf",
   "metadata": {},
   "outputs": [
    {
     "data": {
      "text/plain": [
       "{'book', 'hat', 'keychain', 'mug'}"
      ]
     },
     "execution_count": 30,
     "metadata": {},
     "output_type": "execute_result"
    }
   ],
   "source": [
    "get_customer_orders()"
   ]
  },
  {
   "cell_type": "code",
   "execution_count": 24,
   "id": "6decd20d",
   "metadata": {},
   "outputs": [],
   "source": [
    "def update_inventory(customer_orders, products):\n",
    "     for product in customer_orders:\n",
    "            if (product in products):\n",
    "                inventory[product] -= 1"
   ]
  },
  {
   "cell_type": "code",
   "execution_count": 32,
   "id": "d4055947",
   "metadata": {},
   "outputs": [],
   "source": [
    "update_inventory(customer_orders, products)"
   ]
  },
  {
   "cell_type": "code",
   "execution_count": 71,
   "id": "647972f2",
   "metadata": {},
   "outputs": [],
   "source": [
    "def calculate_order_statistics(customer_orders, products):\n",
    "    percentage_ordered = (len(customer_orders)/len(products))*100\n",
    "    total_products_ordered = len(customer_orders)\n",
    "    return (total_products_ordered, percentage_ordered)\n"
   ]
  },
  {
   "cell_type": "code",
   "execution_count": 72,
   "id": "6d2afb5e",
   "metadata": {},
   "outputs": [
    {
     "data": {
      "text/plain": [
       "(4, 80.0)"
      ]
     },
     "execution_count": 72,
     "metadata": {},
     "output_type": "execute_result"
    }
   ],
   "source": [
    "calculate_order_statistics(customer_orders, products)"
   ]
  },
  {
   "cell_type": "code",
   "execution_count": 80,
   "id": "529bb8fe",
   "metadata": {},
   "outputs": [],
   "source": [
    "def print_order_statistics(order_statistics):\n",
    "    #Print statistics\n",
    "    print(f\"Total Products Ordered: {order_statistics[0]}  \\nPercentage of Products Ordered: {order_statistics[1]}%\")\n"
   ]
  },
  {
   "cell_type": "code",
   "execution_count": 81,
   "id": "d9703584",
   "metadata": {},
   "outputs": [
    {
     "name": "stdout",
     "output_type": "stream",
     "text": [
      "Total Products Ordered: 4  \n",
      "Percentage of Products Ordered: 80.0%\n"
     ]
    }
   ],
   "source": [
    "print_order_statistics(calculate_order_statistics(customer_orders,products))"
   ]
  },
  {
   "cell_type": "code",
   "execution_count": 82,
   "id": "b15deb76",
   "metadata": {},
   "outputs": [],
   "source": [
    "def print_updated_inventory(inventory, customer_orders):\n",
    "        for product in customer_orders:\n",
    "            inventory[product] -= 1\n",
    "        \n",
    "        for key, value in inventory.items():\n",
    "              print(key,\":\",value)"
   ]
  },
  {
   "cell_type": "code",
   "execution_count": 83,
   "id": "6a58ab1e",
   "metadata": {},
   "outputs": [
    {
     "name": "stdout",
     "output_type": "stream",
     "text": [
      "t-shirt : 1\n",
      "mug : -17\n",
      "hat : -16\n",
      "book : -15\n",
      "keychain : -15\n"
     ]
    }
   ],
   "source": [
    "print_updated_inventory(inventory, customer_orders)"
   ]
  }
 ],
 "metadata": {
  "kernelspec": {
   "display_name": "base",
   "language": "python",
   "name": "python3"
  },
  "language_info": {
   "codemirror_mode": {
    "name": "ipython",
    "version": 3
   },
   "file_extension": ".py",
   "mimetype": "text/x-python",
   "name": "python",
   "nbconvert_exporter": "python",
   "pygments_lexer": "ipython3",
   "version": "3.12.7"
  }
 },
 "nbformat": 4,
 "nbformat_minor": 5
}
